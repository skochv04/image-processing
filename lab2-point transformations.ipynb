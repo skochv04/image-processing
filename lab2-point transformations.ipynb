{
 "cells": [
  {
   "cell_type": "markdown",
   "metadata": {
    "id": "Vy3wKSHZxpiV"
   },
   "source": [
    "# Przekształcenia punktowe"
   ]
  },
  {
   "cell_type": "markdown",
   "metadata": {
    "id": "f5geJf5NxpiW"
   },
   "source": [
    "W trakcie niniejszego ćwiczenia zapoznamy się z podstawowymi operacjami punktowymi (bezkontekstowymi) przeprowadzanymi na obrazach cyfrowych:\n",
    "- typu LUT (operacja jednoargumentowa),\n",
    "- arytmetycznymi (operacje dwuargumentowe): dodawanie, odejmowanie, mnożenie, dzielenie,\n",
    "- logicznymi (operacje jedno i dwuargumentowe): AND, OR, XOR, NOT."
   ]
  },
  {
   "cell_type": "markdown",
   "metadata": {
    "id": "Fz3va88LxpiW"
   },
   "source": [
    "Na początku zaimportuj potrzebne biblioteki."
   ]
  },
  {
   "cell_type": "code",
   "execution_count": null,
   "metadata": {
    "id": "-7rPAvqdxpiX"
   },
   "outputs": [],
   "source": [
    "import cv2\n",
    "import os\n",
    "import requests\n",
    "import numpy as np\n",
    "import matplotlib.pyplot as plt"
   ]
  },
  {
   "cell_type": "markdown",
   "metadata": {
    "id": "X7HjLV1JxpiY"
   },
   "source": [
    "## Operacja LUT\n",
    "\n",
    "**Operacja LUT** polega na przekształcaniu wartości poszczególnych pikseli obrazu przy użyciu z góry przygotowanych tabel przekodowań (tabel korekcji).\n",
    "\n",
    "W przetwarzaniu obrazów najczęściej wykorzystuje się następujące funkcje:\n",
    "- typu kwadratowa, pierwiastek kwadratowy\n",
    "- typu logarytm, odwrócony logarytm\n",
    "- typu wykładnicza,\n",
    "- inne (np. piłokształtna)."
   ]
  },
  {
   "cell_type": "markdown",
   "metadata": {
    "id": "DYtJK6WTxpiZ"
   },
   "source": [
    "W tym zadaniu zostały dla Państwa przygotowane tablice przekodowania.\n",
    "Proszę pobrać je z githuba `https://raw.githubusercontent.com/vision-agh/poc_sw/master/02_Point/lut.py` (można użyć znanej biblioteki request), a następnie zaimportować je poleceniem `import lut`.\n",
    "Od tego momentu można się do nich odwoływać w następujący sposób: `lut.log` itd."
   ]
  },
  {
   "cell_type": "code",
   "execution_count": null,
   "metadata": {
    "id": "LlM06CPHxpia"
   },
   "outputs": [],
   "source": [
    "url = 'https://raw.githubusercontent.com/vision-agh/poc_sw/master/02_Point/'\n",
    "fileName = 'lut.py'\n",
    "if not os.path.exists(fileName) :\n",
    "    r = requests.get(url + fileName, allow_redirects=True)\n",
    "    open(fileName, 'wb').write(r.content)\n",
    "\n",
    "import lut"
   ]
  },
  {
   "cell_type": "markdown",
   "metadata": {
    "id": "IIlox0ZZxpia"
   },
   "source": [
    "Wyświetl przykładowe przekodowanie wykorzystując funkcję `plt.plot(lut.kwadratowa)`."
   ]
  },
  {
   "cell_type": "code",
   "execution_count": null,
   "metadata": {
    "id": "YR3cJ1ZExpib"
   },
   "outputs": [],
   "source": [
    "plt.plot(lut.kwadratowa)\n",
    "plt.show()"
   ]
  },
  {
   "cell_type": "markdown",
   "metadata": {
    "id": "9fU-_PM2xpih"
   },
   "source": [
    "Wybierz jeden z obrazów: _lena.bmp_ lub _jet.bmp_ (w razie potrzeby pobierz go z githuba):\n",
    "- https://raw.githubusercontent.com/vision-agh/poc_sw/master/02_Point/lena.bmp\n",
    "- https://raw.githubusercontent.com/vision-agh/poc_sw/master/02_Point/jet.bmp\n",
    "\n",
    "Wczytaj go i wyświetl."
   ]
  },
  {
   "cell_type": "code",
   "execution_count": null,
   "metadata": {
    "id": "HXgvfWJDxpih"
   },
   "outputs": [],
   "source": [
    "fileName = 'lena.bmp'\n",
    "if not os.path.exists(fileName) :\n",
    "    r = requests.get(url + fileName, allow_redirects=True)\n",
    "    open(fileName, 'wb').write(r.content)\n",
    "\n",
    "fileName = 'jet.bmp'\n",
    "if not os.path.exists(fileName) :\n",
    "    r = requests.get(url + fileName, allow_redirects=True)\n",
    "    open(fileName, 'wb').write(r.content)\n",
    "\n",
    "img = cv2.imread('lena.bmp')\n",
    "plt.imshow(img)\n",
    "plt.show()"
   ]
  },
  {
   "cell_type": "markdown",
   "metadata": {
    "id": "7ZiUfo-Zxpii"
   },
   "source": [
    "Na wybranym obrazie wykonaj operację LUT.\n",
    "Służy do tego funkcja `cv2.LUT` przyjmująca dwa argumenty: obraz oraz tablicę przekodowania.\n",
    "Wybierz dowolną z zaimportowanych tablic i wyświetl wynikowy obraz."
   ]
  },
  {
   "cell_type": "code",
   "execution_count": null,
   "metadata": {
    "id": "qst8Ghz8xpii"
   },
   "outputs": [],
   "source": [
    "img_LUT = cv2.LUT(img, lut.pierwiastkowa)\n",
    "\n",
    "plt.imshow(img_LUT)\n",
    "plt.show()"
   ]
  },
  {
   "cell_type": "markdown",
   "metadata": {
    "id": "F3ll_nG4xpii"
   },
   "source": [
    "Aby lepiej zobaczyć w jaki sposób działają różne przekodowania LUT, skonstruujemy funkcję, która jako argumenty pobierać będzie obrazek oryginalny oraz tablicę przekodowania, a następnie na wspólnym rysunku będzie wyświetlać: funkcję, obraz wejściowy oraz wynik przekodowania.\n",
    "\n",
    "Przypomnienie składni tworzenia funkcji w pythonie:\n",
    "```{python}\n",
    "  def nazwa_funkcji(para, metry):\n",
    "  \t# cialo funkcji\n",
    "```"
   ]
  },
  {
   "cell_type": "markdown",
   "metadata": {
    "id": "ghrxyT6Xxpij"
   },
   "source": [
    "  - Stwórz nową funkcję i nazwij ją LUT.\n",
    "  - Funkcja powinna przyjmować dwa parametry: obraz oraz tablicę przekodowania.\n",
    "  - W ciele funkcji wykonaj przekodowanie LUT, podobnie jak wcześniej w przykładzie.\n",
    "  - Funkcja powinna wyświetlić wykres składający się z 3 umieszczonych obok siebie pól: wykres przekodowania, obraz oryginalny oraz obraz przekształcony.\n",
    "    Każdy z wykresów powinien być podpisany.\n",
    "    _(W razie problemów można przypomnieć sobie te zagadnienia z laboratorium wprowadzającego)_\n",
    "  - Jeśli wykres przekodowania jest zbyt rozciągnięty, można go wyrównać, np. `ax2.set_aspect('equal')`."
   ]
  },
  {
   "cell_type": "code",
   "execution_count": null,
   "metadata": {
    "id": "a4e4FiO4xpij"
   },
   "outputs": [],
   "source": [
    "def LUT(img, lut):\n",
    "    img_LUT = lut[img]\n",
    "    \n",
    "    fig, (ax1, ax2, ax3) = plt.subplots(1, 3, figsize=(16, 8))\n",
    "    \n",
    "    ax1.plot(lut)\n",
    "    ax2.imshow(img)\n",
    "    ax3.imshow(img_LUT)\n",
    "    \n",
    "    ax1.set_aspect('equal')\n",
    "    \n",
    "    ax1.set_title('LUT')\n",
    "    ax2.set_title('Original image')\n",
    "    ax3.set_title('LUT image')\n",
    "    \n",
    "    plt.show()"
   ]
  },
  {
   "cell_type": "markdown",
   "metadata": {
    "id": "7RRUhOokxpik"
   },
   "source": [
    "Wywołaj przygotowaną funkcję dla każdego z przekształceń.\n",
    "W wyniku powinno powstać 7 wykresów."
   ]
  },
  {
   "cell_type": "code",
   "execution_count": null,
   "metadata": {
    "id": "dpdmn7sxxpil",
    "scrolled": true
   },
   "outputs": [],
   "source": [
    "LUT(img, lut.log)"
   ]
  },
  {
   "cell_type": "code",
   "execution_count": null,
   "metadata": {},
   "outputs": [],
   "source": [
    "LUT(img, lut.pila)"
   ]
  },
  {
   "cell_type": "code",
   "execution_count": null,
   "metadata": {},
   "outputs": [],
   "source": [
    "LUT(img, lut.odwlog)"
   ]
  },
  {
   "cell_type": "code",
   "execution_count": null,
   "metadata": {},
   "outputs": [],
   "source": [
    "LUT(img, lut.wykladnicza)"
   ]
  },
  {
   "cell_type": "code",
   "execution_count": null,
   "metadata": {},
   "outputs": [],
   "source": [
    "LUT(img, lut.kwadratowa)"
   ]
  },
  {
   "cell_type": "code",
   "execution_count": null,
   "metadata": {},
   "outputs": [],
   "source": [
    "LUT(img, lut.odwrotna)"
   ]
  },
  {
   "cell_type": "code",
   "execution_count": null,
   "metadata": {},
   "outputs": [],
   "source": [
    "LUT(img, lut.pierwiastkowa)"
   ]
  },
  {
   "cell_type": "markdown",
   "metadata": {
    "id": "psRy6lXjxpil"
   },
   "source": [
    "## Operacja arytmetyczne\n",
    "\n",
    "### Dodawanie\n",
    "\n",
    "Wczytaj dwa obrazy _lena.bmp_ i _jet.bmp_ i wyświetl je."
   ]
  },
  {
   "cell_type": "code",
   "execution_count": null,
   "metadata": {
    "id": "PXAEXXm1xpil"
   },
   "outputs": [],
   "source": [
    "lena_img = cv2.imread('lena.bmp')\n",
    "jet_img = cv2.imread('jet.bmp')\n",
    "\n",
    "plt.imshow(lena_img)\n",
    "plt.show()\n",
    "\n",
    "plt.imshow(jet_img)\n",
    "plt.show()"
   ]
  },
  {
   "cell_type": "markdown",
   "metadata": {
    "id": "NpBHUdysxpil"
   },
   "source": [
    "Dodaj obrazy _lena_ i _jet_, wykorzystaj funkcję `cv2.add`.\n",
    "Uzyskany wynik wyświetl."
   ]
  },
  {
   "cell_type": "code",
   "execution_count": null,
   "metadata": {
    "id": "H1J6kwlAxpil"
   },
   "outputs": [],
   "source": [
    "img_add = cv2.add(lena_img, jet_img)\n",
    "\n",
    "plt.imshow(img_add)\n",
    "plt.show()"
   ]
  },
  {
   "cell_type": "markdown",
   "metadata": {
    "id": "Ru1Asgdzxpil"
   },
   "source": [
    "Czy wynik sumowania jest satysfakcjonujący?\n",
    "Co może niekorzystnie wpływać na rezultat operacji?\n",
    "Spróbuj wykonać dodawanie ponownie wykorzystując typ uint16 (`jet.astype('uint16')`) dla arguemntów dodawania.\n",
    "Wynikowy obraz należy przeskalować do zakresu 0-255, zamienić na typ uint8 i wyświetlić.\n",
    "**Uwaga: operacja ta jest użyteczna w przypadku, gdy dane do wyświetlenia wykraczają poza zakres 0-255, w przeciwnym przypadku jej wykorzystanie może zniekształcić wyniki.**"
   ]
  },
  {
   "cell_type": "code",
   "execution_count": null,
   "metadata": {
    "id": "_d-YYXhHxpim"
   },
   "outputs": [],
   "source": [
    "img_add = cv2.add(lena_img.astype('uint16'), jet_img.astype('uint16'))\n",
    "img_add_scale = np.interp(img_add, (img_add.min(), img_add.max()), (0, 255)).astype('uint8')\n",
    "\n",
    "plt.imshow(img_add_scale)\n",
    "plt.show()"
   ]
  },
  {
   "cell_type": "markdown",
   "metadata": {
    "id": "efksr68txpim"
   },
   "source": [
    "### Kombinacja liniowa\n",
    "\n",
    "Do wykonywania operacji kombinacji liniowej służy funkcja `cv2.addWeighted`.\n",
    "Zapoznaj się z dokumentacją tej funkcji i przetestuj kilka kombinacji liniowych obrazów _lena_ i _jet_.\n",
    "Wyświetl wynik dowolnej z nich."
   ]
  },
  {
   "cell_type": "code",
   "execution_count": null,
   "metadata": {
    "id": "gBzwSBPbxpim"
   },
   "outputs": [],
   "source": [
    "for alpha in [0.0, 0.1, 0.2, 0.3, 0.4, 0.5, 0.6, 0.7, 0.8, 0.9, 1.0]:\n",
    "    img_comb = cv2.addWeighted(lena_img, alpha, jet_img, 1 - alpha, 0)\n",
    "    \n",
    "    plt.imshow(img_comb)\n",
    "    plt.title(f'Lena image $\\\\alpha = {alpha:.2f}$ | Jet image $\\\\beta = {1-alpha:.2f}$')\n",
    "    plt.show()"
   ]
  },
  {
   "cell_type": "markdown",
   "metadata": {
    "id": "nylvFTwAxpim"
   },
   "source": [
    "### Odejmowanie\n",
    "\n",
    "Wykorzystując funkcję `cv2.subtract` odejmij obrazy _lena_ i _jet_."
   ]
  },
  {
   "cell_type": "code",
   "execution_count": null,
   "metadata": {
    "id": "Zt9LMf3Fxpim"
   },
   "outputs": [],
   "source": [
    "img_sub = cv2.subtract(lena_img, jet_img)\n",
    "\n",
    "plt.imshow(img_sub)\n",
    "plt.show()"
   ]
  },
  {
   "cell_type": "markdown",
   "metadata": {
    "id": "483w1Ol4xpim"
   },
   "source": [
    "Czy wynik odejmowania jest satysfakcjonujący?\n",
    "Co może niekorzystnie wpływać na rezultat operacji?\n",
    "Często zamiast zwykłego odejmowania wykorzystuje się operację wartość bezwzględna z różnicy (pozwala to między innymi uniknąć pokazanych powyżej problemów).\n",
    "Zamień typ argumentów _lena_ i _jet_ z uint8 na **int16**, odejmij je od siebie, a następnie wykorzystując funkcję `np.abs` wykonaj operację wartość bezwzględna z różnicy.\n",
    "Wyświetl ten obraz.\n",
    "Zastanów się, dlaczego ta zmiana poprawia wynik odejmowania?"
   ]
  },
  {
   "cell_type": "code",
   "execution_count": null,
   "metadata": {
    "id": "V0ZbuqG5xpim"
   },
   "outputs": [],
   "source": [
    "img_sub = cv2.subtract(lena_img.astype(np.int16), jet_img.astype(np.int16))\n",
    "\n",
    "img_normal = np.abs(img_sub)\n",
    "\n",
    "plt.imshow(img_normal)\n",
    "plt.show()"
   ]
  },
  {
   "cell_type": "markdown",
   "metadata": {
    "id": "wBEu724uxpim"
   },
   "source": [
    "### Mnożenie\n",
    "\n",
    "Mnożenie dwóch obrazów pozwala wykonać funkcja `cv2.multiply`.\n",
    "Wykonaj mnożenie obrazów _lena_ i _jet_.\n",
    "Czy wynik takiej operacji zawiera jakąś istotną informację?\n",
    "Dlaczego?\n",
    "\n",
    "Przed wykonaniem mnożenia zamień typ arguemntów na **float64**. Wynik mnożenia przeskaluj do zakresu 0-255, a następnie zrzutuj na typ **uint8**."
   ]
  },
  {
   "cell_type": "code",
   "execution_count": null,
   "metadata": {
    "id": "4cnM_5wrxpin"
   },
   "outputs": [],
   "source": [
    "img_multiply = cv2.multiply(lena_img.astype(np.float64), jet_img.astype(np.float64))\n",
    "\n",
    "img_multiply = np.interp(img_multiply, (img_multiply.min(), img_multiply.max()), (0, 255)).astype(np.uint8)\n",
    "\n",
    "plt.imshow(img_multiply)\n",
    "plt.show()"
   ]
  },
  {
   "cell_type": "markdown",
   "metadata": {
    "id": "LQLxZNjGxpin"
   },
   "source": [
    "Mnożenie częściej wykorzystuje się jako:\n",
    "  + mnożenie przez stałą $-$ co powoduje ogólne rozjaśnienie albo ściemnienie obrazu,\n",
    "  + mnożenie przez maskę $-$ czyli obraz binarny."
   ]
  },
  {
   "cell_type": "markdown",
   "metadata": {
    "id": "Ek0IMzadxpin"
   },
   "source": [
    "Wczytaj maskę _kolo.bmp_ (https://raw.githubusercontent.com/vision-agh/poc_sw/master/02_Point/kolo.bmp).\n",
    "Przemnóż wybrany obraz przez maskę i wyświetl wynik.\n",
    "Mnożenie przez maskę można zrealizować za pomocą funkcji `cv2.multiply`, ale maskę należy należy najpierw przekształcić z zakresu 0-255 do 0-1, na przykład `(maska).astype('bool').astype('uint8')`."
   ]
  },
  {
   "cell_type": "code",
   "execution_count": null,
   "metadata": {
    "id": "-toBMqlnxpin"
   },
   "outputs": [],
   "source": [
    "fileName = 'kolo.bmp'\n",
    "if not os.path.exists(fileName) :\n",
    "    r = requests.get(url + fileName, allow_redirects=True)\n",
    "    open(fileName, 'wb').write(r.content)\n",
    "\n",
    "circle = cv2.imread('kolo.bmp')\n",
    "\n",
    "img_mask = cv2.multiply(lena_img, circle.astype('bool').astype(np.uint8))\n",
    "\n",
    "plt.imshow(img_mask)\n",
    "plt.show()"
   ]
  },
  {
   "cell_type": "markdown",
   "metadata": {
    "id": "g2rEh7IFxpin"
   },
   "source": [
    "### Negatyw\n",
    "\n",
    "Negatyw obrazu uzyskuje się za pomocą funkcji `cv2.bitwise_not(img)`\n",
    "Negatyw obrazu można również uzyskać wykorzystując przekodowanie LUT.\n",
    "Można w tym celu posłużyć się przygotowaną wcześniej tablicą `lut.odwrotna`.\n",
    "Przetestuj działanie tych funkcji i wykonaj negatyw obrazu _lena_ dowolnym sposobem."
   ]
  },
  {
   "cell_type": "code",
   "execution_count": null,
   "metadata": {
    "id": "xRtuf633xpio"
   },
   "outputs": [],
   "source": [
    "img_negative = cv2.bitwise_not(lena_img)\n",
    "\n",
    "plt.imshow(img_negative)\n",
    "plt.show()"
   ]
  },
  {
   "cell_type": "code",
   "execution_count": null,
   "metadata": {},
   "outputs": [],
   "source": [
    "img_negative_LUT = cv2.LUT(img, lut.odwrotna)\n",
    "\n",
    "plt.imshow(img_negative_LUT)\n",
    "plt.show()"
   ]
  },
  {
   "cell_type": "markdown",
   "metadata": {
    "id": "8Q8AVaqVxpio"
   },
   "source": [
    "## Operacje logiczne\n",
    "\n",
    "Na poszczególnych punktach obrazu (najczęściej binarnego $-$ czyli składającego się z dwóch kolorów: czarnego i białego) można wykonywać operacje logiczne: NOT, AND, OR, XOR itp.\n",
    "Wczytaj dwa obrazy: _kolo.bmp_ i _kwadrat.bmp_ (https://raw.githubusercontent.com/vision-agh/poc_sw/master/02_Point/kwadrat.bmp), następnie wyświetl je."
   ]
  },
  {
   "cell_type": "code",
   "execution_count": null,
   "metadata": {
    "id": "n7BwkzwMxpio"
   },
   "outputs": [],
   "source": [
    "fileName = 'kwadrat.bmp'\n",
    "if not os.path.exists(fileName) :\n",
    "    r = requests.get(url + fileName, allow_redirects=True)\n",
    "    open(fileName, 'wb').write(r.content)\n",
    "\n",
    "square = cv2.imread('kwadrat.bmp')\n",
    "\n",
    "plt.imshow(circle)\n",
    "plt.show()\n",
    "\n",
    "plt.imshow(square)\n",
    "plt.show()"
   ]
  },
  {
   "cell_type": "markdown",
   "metadata": {
    "id": "au1Z34p_xpio"
   },
   "source": [
    "Na wczytanych obrazach wykonaj wybrane operacje logiczne: NOT (operator `~`), AND (`&`), OR (`|`), XOR (`^`).\n",
    "Operator `~` jest jednoargumentowy, wszystkie pozostałe są dwuargumentowe.\n",
    "Alternatywnym sposobem jest wykorzystanie funkcji z biblioteki opencv: `cv2.bitwise_not`, `cv2.bitwise_and`, `cv2.bitwise_or`, `cv2.bitwise_xor`.\n",
    "Wyświetl rezultaty."
   ]
  },
  {
   "cell_type": "code",
   "execution_count": null,
   "metadata": {},
   "outputs": [],
   "source": [
    "plt.imshow(~circle)\n",
    "plt.show()\n",
    "\n",
    "plt.imshow(~square)\n",
    "plt.show()"
   ]
  },
  {
   "cell_type": "code",
   "execution_count": null,
   "metadata": {},
   "outputs": [],
   "source": [
    "plt.imshow(circle & square)\n",
    "plt.show()"
   ]
  },
  {
   "cell_type": "code",
   "execution_count": null,
   "metadata": {},
   "outputs": [],
   "source": [
    "plt.imshow(circle | square)\n",
    "plt.show()"
   ]
  },
  {
   "cell_type": "code",
   "execution_count": null,
   "metadata": {},
   "outputs": [],
   "source": [
    "plt.imshow(circle ^ square)\n",
    "plt.show()"
   ]
  }
 ],
 "metadata": {
  "colab": {
   "collapsed_sections": [],
   "provenance": []
  },
  "kernelspec": {
   "display_name": "Python 3 (ipykernel)",
   "language": "python",
   "name": "python3"
  },
  "language_info": {
   "codemirror_mode": {
    "name": "ipython",
    "version": 3
   },
   "file_extension": ".py",
   "mimetype": "text/x-python",
   "name": "python",
   "nbconvert_exporter": "python",
   "pygments_lexer": "ipython3",
   "version": "3.11.0"
  }
 },
 "nbformat": 4,
 "nbformat_minor": 4
}
